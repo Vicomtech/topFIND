{
 "cells": [
  {
   "cell_type": "code",
   "execution_count": 1,
   "id": "7f054c17",
   "metadata": {},
   "outputs": [],
   "source": [
    "import pandas as pd"
   ]
  },
  {
   "cell_type": "markdown",
   "id": "830e1d53",
   "metadata": {},
   "source": [
    "# News"
   ]
  },
  {
   "cell_type": "code",
   "execution_count": 2,
   "id": "48ef505f",
   "metadata": {},
   "outputs": [],
   "source": [
    "# Specify the path to your Excel file\n",
    "excel_file_path = \"/home/VICOMTECH/afernandezc/Downloads/News_merged (1).xlsx\"\n",
    "\n",
    "# Read the Excel file into a DataFrame\n",
    "df = pd.read_excel(excel_file_path)\n",
    "\n",
    "# Identify and store duplicate rows based on the 'URL' column\n",
    "duplicates_df = df[df.duplicated(subset='URL', keep=False)]\n",
    "\n",
    "# Remove duplicate rows based on the 'URL' column\n",
    "filtered_df = df.drop_duplicates(subset='URL', keep='first')  # or keep='last' if you prefer"
   ]
  },
  {
   "cell_type": "code",
   "execution_count": 3,
   "id": "8715efd5",
   "metadata": {
    "scrolled": true
   },
   "outputs": [
    {
     "name": "stdout",
     "output_type": "stream",
     "text": [
      "Duplicate Rows:\n"
     ]
    },
    {
     "data": {
      "text/html": [
       "<div>\n",
       "<style scoped>\n",
       "    .dataframe tbody tr th:only-of-type {\n",
       "        vertical-align: middle;\n",
       "    }\n",
       "\n",
       "    .dataframe tbody tr th {\n",
       "        vertical-align: top;\n",
       "    }\n",
       "\n",
       "    .dataframe thead th {\n",
       "        text-align: right;\n",
       "    }\n",
       "</style>\n",
       "<table border=\"1\" class=\"dataframe\">\n",
       "  <thead>\n",
       "    <tr style=\"text-align: right;\">\n",
       "      <th></th>\n",
       "      <th>publishedAt</th>\n",
       "      <th>description</th>\n",
       "      <th>title</th>\n",
       "      <th>URL</th>\n",
       "      <th>language</th>\n",
       "      <th>mediaTitle</th>\n",
       "      <th>authors</th>\n",
       "      <th>summary</th>\n",
       "      <th>textLength</th>\n",
       "      <th>keywords</th>\n",
       "      <th>...</th>\n",
       "      <th>thematicAreas_lifeStyle</th>\n",
       "      <th>thematicAreas_empowermentOfCancerSurvivorship</th>\n",
       "      <th>thematicAreas_inequalitiesInSurvivorship</th>\n",
       "      <th>thematicAreas_prevention</th>\n",
       "      <th>thematicAreas_cancerInformation</th>\n",
       "      <th>thematicAreas_personalExperiences</th>\n",
       "      <th>targetGroups_adult</th>\n",
       "      <th>targetGroups_child</th>\n",
       "      <th>targetGroups_man</th>\n",
       "      <th>targetGroups_woman</th>\n",
       "    </tr>\n",
       "  </thead>\n",
       "  <tbody>\n",
       "  </tbody>\n",
       "</table>\n",
       "<p>0 rows × 61 columns</p>\n",
       "</div>"
      ],
      "text/plain": [
       "Empty DataFrame\n",
       "Columns: [publishedAt, description, title, URL, language, mediaTitle, authors, summary, textLength, keywords, cancerTypes_breast, cancerTypes_prostate, cancerTypes_colorectal, cancerTypes_hodgkin, cancerTypes_pediatric, cancerTypes_bone, cancerTypes_rare, cancerTypes_melanoma, cancerTypes_lung, cancerTypes_pancreatic, cancerTypes_stomach, cancerTypes_bladder, cancerTypes_non-hodgkin, cancerTypes_liver, cancerTypes_kidney, cancerTypes_multiple myeloma, cancerTypes_thyroid, cancerTypes_oral cavity, cancerTypes_esophagus, cancerTypes_larynx, cancerTypes_corpus uteri, cancerTypes_ovarian, cancerTypes_endometrial, cancerTypes_testicular, cancerTypes_neuroblastoma, cancerTypes_wilms, thematicAreas_adverseEvents, thematicAreas_nutrition, thematicAreas_mentalHealth, thematicAreas_qol, thematicAreas_jobSecurityAccessToEmployment, thematicAreas_survivorshipCare, thematicAreas_AYACare, thematicAreas_lateEffects, thematicAreas_wellbeing, thematicAreas_meditation, thematicAreas_co-morbidity, thematicAreas_rehabilitation, thematicAreas_physicalActivity, thematicAreas_socialRehabilitation, thematicAreas_sexualLife, thematicAreas_lifeStyle, thematicAreas_empowermentOfCancerSurvivorship, thematicAreas_inequalitiesInSurvivorship, thematicAreas_prevention, thematicAreas_cancerInformation, thematicAreas_personalExperiences, targetGroups_adult, targetGroups_child, targetGroups_man, targetGroups_woman]\n",
       "Index: []\n",
       "\n",
       "[0 rows x 61 columns]"
      ]
     },
     "execution_count": 3,
     "metadata": {},
     "output_type": "execute_result"
    }
   ],
   "source": [
    "# Print the duplicate rows\n",
    "print(\"Duplicate Rows:\")\n",
    "duplicates_df"
   ]
  },
  {
   "cell_type": "code",
   "execution_count": 4,
   "id": "e7bc5646",
   "metadata": {},
   "outputs": [
    {
     "name": "stdout",
     "output_type": "stream",
     "text": [
      "DataFrame saved as an Excel file in the Downloads folder.\n"
     ]
    }
   ],
   "source": [
    "# Specify the file path for the Excel file in your Downloads folder\n",
    "file_path = \"~/Downloads/News_merged (1).xlsx\"\n",
    "\n",
    "# Save the DataFrame as an Excel file\n",
    "filtered_df.to_excel(file_path, index=False)\n",
    "\n",
    "print(\"DataFrame saved as an Excel file in the Downloads folder.\")"
   ]
  },
  {
   "cell_type": "markdown",
   "id": "c4f97066",
   "metadata": {},
   "source": [
    "# Videos"
   ]
  },
  {
   "cell_type": "code",
   "execution_count": 7,
   "id": "c974a3b3",
   "metadata": {},
   "outputs": [],
   "source": [
    "# Specify the path to your Excel file\n",
    "excel_file_path = \"/home/VICOMTECH/afernandezc/Downloads/Videos_merged.xlsx\"\n",
    "\n",
    "df = pd.read_excel(excel_file_path)\n",
    "\n",
    "# Identify and store duplicate rows based on the 'id' column\n",
    "duplicates_df = df[df.duplicated(subset='video_id', keep=False)]\n",
    "\n",
    "# Remove duplicate rows based on the 'id' column\n",
    "filtered_df = df.drop_duplicates(subset='video_id', keep=False)"
   ]
  },
  {
   "cell_type": "code",
   "execution_count": 8,
   "id": "022700f4",
   "metadata": {},
   "outputs": [
    {
     "name": "stdout",
     "output_type": "stream",
     "text": [
      "DataFrame saved as an Excel file in the Downloads folder.\n"
     ]
    }
   ],
   "source": [
    "# Specify the file path for the Excel file in your Downloads folder\n",
    "file_path = \"~/Downloads/Videos_merged.xlsx\"\n",
    "\n",
    "# Save the DataFrame as an Excel file\n",
    "filtered_df.to_excel(file_path, index=False)\n",
    "\n",
    "print(\"DataFrame saved as an Excel file in the Downloads folder.\")"
   ]
  },
  {
   "cell_type": "code",
   "execution_count": 9,
   "id": "73104df5",
   "metadata": {},
   "outputs": [
    {
     "name": "stdout",
     "output_type": "stream",
     "text": [
      "Duplicate Rows:\n"
     ]
    },
    {
     "data": {
      "text/html": [
       "<div>\n",
       "<style scoped>\n",
       "    .dataframe tbody tr th:only-of-type {\n",
       "        vertical-align: middle;\n",
       "    }\n",
       "\n",
       "    .dataframe tbody tr th {\n",
       "        vertical-align: top;\n",
       "    }\n",
       "\n",
       "    .dataframe thead th {\n",
       "        text-align: right;\n",
       "    }\n",
       "</style>\n",
       "<table border=\"1\" class=\"dataframe\">\n",
       "  <thead>\n",
       "    <tr style=\"text-align: right;\">\n",
       "      <th></th>\n",
       "      <th>publishedAt</th>\n",
       "      <th>channelId</th>\n",
       "      <th>title</th>\n",
       "      <th>description</th>\n",
       "      <th>channelTitle</th>\n",
       "      <th>licensedContent</th>\n",
       "      <th>duration</th>\n",
       "      <th>viewCount</th>\n",
       "      <th>video_id</th>\n",
       "      <th>video_URL</th>\n",
       "      <th>...</th>\n",
       "      <th>thematicAreas_lifeStyle</th>\n",
       "      <th>thematicAreas_empowermentOfCancerSurvivorship</th>\n",
       "      <th>thematicAreas_inequalitiesInSurvivorship</th>\n",
       "      <th>thematicAreas_prevention</th>\n",
       "      <th>thematicAreas_cancerInformation</th>\n",
       "      <th>thematicAreas_personalExperiences</th>\n",
       "      <th>targetGroups_adult</th>\n",
       "      <th>targetGroups_child</th>\n",
       "      <th>targetGroups_man</th>\n",
       "      <th>targetGroups_woman</th>\n",
       "    </tr>\n",
       "  </thead>\n",
       "  <tbody>\n",
       "  </tbody>\n",
       "</table>\n",
       "<p>0 rows × 66 columns</p>\n",
       "</div>"
      ],
      "text/plain": [
       "Empty DataFrame\n",
       "Columns: [publishedAt, channelId, title, description, channelTitle, licensedContent, duration, viewCount, video_id, video_URL, likeCount, commentCount, subscriberCount, tags, captions, cancerTypes_breast, cancerTypes_prostate, cancerTypes_colorectal, cancerTypes_hodgkin, cancerTypes_pediatric, cancerTypes_bone, cancerTypes_rare, cancerTypes_melanoma, cancerTypes_lung, cancerTypes_pancreatic, cancerTypes_stomach, cancerTypes_bladder, cancerTypes_non-hodgkin, cancerTypes_liver, cancerTypes_kidney, cancerTypes_multiple myeloma, cancerTypes_thyroid, cancerTypes_oral cavity, cancerTypes_esophagus, cancerTypes_larynx, cancerTypes_corpus uteri, cancerTypes_ovarian, cancerTypes_endometrial, cancerTypes_testicular, cancerTypes_neuroblastoma, cancerTypes_wilms, thematicAreas_adverseEvents, thematicAreas_nutrition, thematicAreas_mentalHealth, thematicAreas_qol, thematicAreas_jobSecurityAccessToEmployment, thematicAreas_survivorshipCare, thematicAreas_AYACare, thematicAreas_lateEffects, thematicAreas_wellbeing, thematicAreas_meditation, thematicAreas_co-morbidity, thematicAreas_rehabilitation, thematicAreas_physicalActivity, thematicAreas_socialRehabilitation, thematicAreas_sexualLife, thematicAreas_lifeStyle, thematicAreas_empowermentOfCancerSurvivorship, thematicAreas_inequalitiesInSurvivorship, thematicAreas_prevention, thematicAreas_cancerInformation, thematicAreas_personalExperiences, targetGroups_adult, targetGroups_child, targetGroups_man, targetGroups_woman]\n",
       "Index: []\n",
       "\n",
       "[0 rows x 66 columns]"
      ]
     },
     "execution_count": 9,
     "metadata": {},
     "output_type": "execute_result"
    }
   ],
   "source": [
    "# Print the duplicate rows\n",
    "print(\"Duplicate Rows:\")\n",
    "duplicates_df.head()"
   ]
  },
  {
   "cell_type": "markdown",
   "id": "c26b3f7a",
   "metadata": {},
   "source": [
    "# Podcasts"
   ]
  },
  {
   "cell_type": "code",
   "execution_count": 24,
   "id": "cbedff94",
   "metadata": {},
   "outputs": [],
   "source": [
    "# Specify the path to your Excel file\n",
    "excel_file_path = \"/home/VICOMTECH/afernandezc/Downloads/Podcasts_merged.xlsx\"\n",
    "\n",
    "df = pd.read_excel(excel_file_path)\n",
    "\n",
    "# Identify and store duplicate rows based on the 'id' column\n",
    "duplicates_df = df[df.duplicated(subset='id', keep=False)]\n",
    "\n",
    "# Remove duplicate rows based on the 'id' column\n",
    "filtered_df = df.drop_duplicates(subset='id', keep=False)"
   ]
  },
  {
   "cell_type": "code",
   "execution_count": 25,
   "id": "35d6baca",
   "metadata": {},
   "outputs": [
    {
     "name": "stdout",
     "output_type": "stream",
     "text": [
      "Duplicate Rows:\n"
     ]
    },
    {
     "data": {
      "text/html": [
       "<div>\n",
       "<style scoped>\n",
       "    .dataframe tbody tr th:only-of-type {\n",
       "        vertical-align: middle;\n",
       "    }\n",
       "\n",
       "    .dataframe tbody tr th {\n",
       "        vertical-align: top;\n",
       "    }\n",
       "\n",
       "    .dataframe thead th {\n",
       "        text-align: right;\n",
       "    }\n",
       "</style>\n",
       "<table border=\"1\" class=\"dataframe\">\n",
       "  <thead>\n",
       "    <tr style=\"text-align: right;\">\n",
       "      <th></th>\n",
       "      <th>id</th>\n",
       "      <th>title</th>\n",
       "      <th>releaseDate</th>\n",
       "      <th>description</th>\n",
       "      <th>trackTimeMillis</th>\n",
       "      <th>trackViewUrl</th>\n",
       "      <th>languages</th>\n",
       "      <th>provider</th>\n",
       "      <th>cancerTypes_breast</th>\n",
       "      <th>cancerTypes_prostate</th>\n",
       "      <th>...</th>\n",
       "      <th>thematicAreas_inequalitiesInSurvivorship</th>\n",
       "      <th>thematicAreas_prevention</th>\n",
       "      <th>thematicAreas_cancerInformation</th>\n",
       "      <th>thematicAreas_personalExperiences</th>\n",
       "      <th>targetGroups_adult</th>\n",
       "      <th>targetGroups_child</th>\n",
       "      <th>targetGroups_man</th>\n",
       "      <th>targetGroups_woman</th>\n",
       "      <th>Unnamed: 59</th>\n",
       "      <th>Unnamed: 60</th>\n",
       "    </tr>\n",
       "  </thead>\n",
       "  <tbody>\n",
       "  </tbody>\n",
       "</table>\n",
       "<p>0 rows × 61 columns</p>\n",
       "</div>"
      ],
      "text/plain": [
       "Empty DataFrame\n",
       "Columns: [id, title, releaseDate, description, trackTimeMillis, trackViewUrl, languages, provider, cancerTypes_breast, cancerTypes_prostate, cancerTypes_colorectal, cancerTypes_hodgkin, cancerTypes_pediatric, cancerTypes_bone, cancerTypes_rare, cancerTypes_melanoma, cancerTypes_lung, cancerTypes_pancreatic, cancerTypes_stomach, cancerTypes_bladder, cancerTypes_non-hodgkin, cancerTypes_liver, cancerTypes_kidney, cancerTypes_multiple myeloma, cancerTypes_thyroid, cancerTypes_oral cavity, cancerTypes_esophagus, cancerTypes_larynx, cancerTypes_corpus uteri, cancerTypes_ovarian, cancerTypes_endometrial, cancerTypes_testicular, cancerTypes_neuroblastoma, cancerTypes_wilms, thematicAreas_adverseEvents, thematicAreas_nutrition, thematicAreas_mentalHealth, thematicAreas_qol, thematicAreas_jobSecurityAccessToEmployment, thematicAreas_survivorshipCare, thematicAreas_AYACare, thematicAreas_lateEffects, thematicAreas_wellbeing, thematicAreas_meditation, thematicAreas_co-morbidity, thematicAreas_rehabilitation, thematicAreas_physicalActivity, thematicAreas_socialRehabilitation, thematicAreas_sexualLife, thematicAreas_lifeStyle, thematicAreas_empowermentOfCancerSurvivorship, thematicAreas_inequalitiesInSurvivorship, thematicAreas_prevention, thematicAreas_cancerInformation, thematicAreas_personalExperiences, targetGroups_adult, targetGroups_child, targetGroups_man, targetGroups_woman, Unnamed: 59, Unnamed: 60]\n",
       "Index: []\n",
       "\n",
       "[0 rows x 61 columns]"
      ]
     },
     "execution_count": 25,
     "metadata": {},
     "output_type": "execute_result"
    }
   ],
   "source": [
    "# Print the duplicate rows\n",
    "print(\"Duplicate Rows:\")\n",
    "duplicates_df"
   ]
  },
  {
   "cell_type": "code",
   "execution_count": 26,
   "id": "8d71c3b3",
   "metadata": {},
   "outputs": [
    {
     "name": "stdout",
     "output_type": "stream",
     "text": [
      "DataFrame saved as an Excel file in the Downloads folder.\n"
     ]
    }
   ],
   "source": [
    "# Specify the file path for the Excel file in your Downloads folder\n",
    "file_path = \"~/Downloads/Podcasts_merged.xlsx\"\n",
    "\n",
    "# Save the DataFrame as an Excel file\n",
    "filtered_df.to_excel(file_path, index=False)\n",
    "\n",
    "print(\"DataFrame saved as an Excel file in the Downloads folder.\")"
   ]
  },
  {
   "cell_type": "code",
   "execution_count": null,
   "id": "fe9012cf",
   "metadata": {},
   "outputs": [],
   "source": []
  }
 ],
 "metadata": {
  "kernelspec": {
   "display_name": "Python 3 (ipykernel)",
   "language": "python",
   "name": "python3"
  },
  "language_info": {
   "codemirror_mode": {
    "name": "ipython",
    "version": 3
   },
   "file_extension": ".py",
   "mimetype": "text/x-python",
   "name": "python",
   "nbconvert_exporter": "python",
   "pygments_lexer": "ipython3",
   "version": "3.10.12"
  }
 },
 "nbformat": 4,
 "nbformat_minor": 5
}
